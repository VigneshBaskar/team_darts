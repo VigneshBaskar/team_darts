{
 "cells": [
  {
   "cell_type": "code",
   "execution_count": null,
   "metadata": {
    "collapsed": true
   },
   "outputs": [],
   "source": [
    "import os\n",
    "import pandas as pd\n",
    "import numpy as np"
   ]
  },
  {
   "cell_type": "code",
   "execution_count": null,
   "metadata": {
    "collapsed": true
   },
   "outputs": [],
   "source": [
    "from Scripts.UnknownWordsProcessing import UnknownWordsProcessing \n",
    "from Scripts.VocabDict import VocabDict\n",
    "from Scripts.MapWordToID import MapWordToID\n",
    "from Scripts.Tokenizer import word_tokenizer\n",
    "from Scripts.SentenceProcessing import SentenceProcessing"
   ]
  },
  {
   "cell_type": "code",
   "execution_count": null,
   "metadata": {
    "collapsed": true
   },
   "outputs": [],
   "source": [
    "from Scripts.Word2VecUtilities import Word2VecUtilities"
   ]
  },
  {
   "cell_type": "code",
   "execution_count": null,
   "metadata": {
    "collapsed": true
   },
   "outputs": [],
   "source": [
    "data_path = 'data'"
   ]
  },
  {
   "cell_type": "code",
   "execution_count": null,
   "metadata": {
    "collapsed": true
   },
   "outputs": [],
   "source": [
    "dtype = {\n",
    "    'id': str,\n",
    "    'teacher_id': str,\n",
    "    'teacher_prefix': str,\n",
    "    'school_state': str,\n",
    "    'project_submitted_datetime': str,\n",
    "    'project_grade_category': str,\n",
    "    'project_subject_categories': str,\n",
    "    'project_subject_subcategories': str,\n",
    "    'project_title': str,\n",
    "    'project_essay_1': str,\n",
    "    'project_essay_2': str,\n",
    "    'project_essay_3': str,\n",
    "    'project_essay_4': str,\n",
    "    'project_resource_summary': str,\n",
    "    'teacher_number_of_previously_posted_projects': int,\n",
    "    'project_is_approved': np.uint8,\n",
    "}"
   ]
  },
  {
   "cell_type": "code",
   "execution_count": null,
   "metadata": {
    "collapsed": true
   },
   "outputs": [],
   "source": [
    "train_csv = pd.read_csv(os.path.join(data_path, 'train.csv'), dtype=dtype, low_memory=True)\n",
    "train_csv = train_csv[pd.isnull(train_csv['project_essay_3'])]\n",
    "train_csv['project_essay'] = train_csv['project_essay_1'] + train_csv['project_essay_2']\n",
    "train_csv['project_essay'] = train_csv['project_essay'].str.lower()\n",
    "\n",
    "y = train_csv['project_is_approved'].tolist()\n",
    "X_text = train_csv['project_essay'].tolist()"
   ]
  },
  {
   "cell_type": "code",
   "execution_count": null,
   "metadata": {
    "scrolled": true
   },
   "outputs": [],
   "source": [
    "import pickle\n",
    "data = {'X_text':X_text, 'y':y}\n",
    "with open(os.path.join('Data','data.p'), 'wb') as handle:\n",
    "    pickle.dump(data, handle, protocol=pickle.HIGHEST_PROTOCOL)"
   ]
  },
  {
   "cell_type": "code",
   "execution_count": null,
   "metadata": {
    "collapsed": true
   },
   "outputs": [],
   "source": [
    "all_documents_tokenized_words = [list(set(word_tokenizer(text))) for text in X_text]\n",
    "vocab_dict, rev_vocab_dict = VocabDict.create_vocab_dict(all_documents_tokenized_words, min_doc_count=1000)"
   ]
  },
  {
   "cell_type": "code",
   "execution_count": null,
   "metadata": {
    "collapsed": true,
    "scrolled": false
   },
   "outputs": [],
   "source": [
    "unknown_words_processing = UnknownWordsProcessing(vocab_dict.keys(), replace=False)\n",
    "tokenized_documents = [word_tokenizer(text) for text in X_text]\n",
    "unknown_words_removed_sentences = unknown_words_processing.remove_or_replace_unkown_word_from_sentences(tokenized_documents)\n",
    "preprocessed_documents = SentenceProcessing().pad_truncate_sent(unknown_words_removed_sentences, chosen_sent_len = 300)"
   ]
  },
  {
   "cell_type": "code",
   "execution_count": null,
   "metadata": {
    "collapsed": true
   },
   "outputs": [],
   "source": [
    "w2v_model = Word2VecUtilities.create_word2vector_model(unknown_words_removed_sentences, wv_size=50)\n",
    "embedding_matrix = Word2VecUtilities.create_embeddings_matrix(w2v_model, rev_vocab_dict)"
   ]
  },
  {
   "cell_type": "code",
   "execution_count": null,
   "metadata": {
    "collapsed": true
   },
   "outputs": [],
   "source": [
    "vocab_dict['my_dummy']=len(vocab_dict)\n",
    "rev_vocab_dict[len(rev_vocab_dict)] = 'my_dummy'\n",
    "embedding_matrix = np.vstack((embedding_matrix, np.zeros((1, embedding_matrix.shape[1]))))"
   ]
  },
  {
   "cell_type": "code",
   "execution_count": null,
   "metadata": {
    "collapsed": true
   },
   "outputs": [],
   "source": [
    "map_word_to_id = MapWordToID(vocab_dict)\n",
    "id_lists = map_word_to_id.word_lists_to_id_lists(preprocessed_documents)\n",
    "id_arrays = np.array(id_lists)"
   ]
  },
  {
   "cell_type": "code",
   "execution_count": null,
   "metadata": {},
   "outputs": [],
   "source": [
    "def return_actual_text(x, rev_vocab_dict):\n",
    "    actual_text = \" \".join([rev_vocab_dict[word_id] for word_id in x])\n",
    "    return actual_text"
   ]
  },
  {
   "cell_type": "code",
   "execution_count": null,
   "metadata": {},
   "outputs": [],
   "source": [
    "w2v_model.wv.most_similar('grant')"
   ]
  }
 ],
 "metadata": {
  "kernelspec": {
   "display_name": "kaggle",
   "language": "python",
   "name": "kaggle"
  },
  "language_info": {
   "codemirror_mode": {
    "name": "ipython",
    "version": 3
   },
   "file_extension": ".py",
   "mimetype": "text/x-python",
   "name": "python",
   "nbconvert_exporter": "python",
   "pygments_lexer": "ipython3",
   "version": "3.5.2"
  }
 },
 "nbformat": 4,
 "nbformat_minor": 2
}
