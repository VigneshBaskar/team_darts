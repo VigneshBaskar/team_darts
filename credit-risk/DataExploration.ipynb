{
 "cells": [
  {
   "cell_type": "code",
   "execution_count": null,
   "metadata": {
    "collapsed": true
   },
   "outputs": [],
   "source": [
    "import pandas as pd\n",
    "import numpy as np"
   ]
  },
  {
   "cell_type": "code",
   "execution_count": null,
   "metadata": {},
   "outputs": [],
   "source": [
    "from sklearn.model_selection import train_test_split\n",
    "from sklearn.preprocessing import LabelEncoder\n",
    "import xgboost as xgb\n",
    "import lightclf as lgb\n",
    "from sklearn.metrics import roc_auc_score"
   ]
  },
  {
   "cell_type": "code",
   "execution_count": null,
   "metadata": {
    "collapsed": true
   },
   "outputs": [],
   "source": [
    "application_train = pd.read_csv('Data/application_train.csv')\n",
    "application_test = pd.read_csv('Data/application_test.csv')"
   ]
  },
  {
   "cell_type": "code",
   "execution_count": null,
   "metadata": {
    "collapsed": true
   },
   "outputs": [],
   "source": [
    "pd.options.display.max_columns = len(application_train.columns)\n",
    "pd.options.display.max_rows = len(application_train.columns)"
   ]
  },
  {
   "cell_type": "code",
   "execution_count": null,
   "metadata": {},
   "outputs": [],
   "source": [
    "application_features = [column for column in application_train.columns.tolist() if column!='SK_ID_CURR' and column!='TARGET']"
   ]
  },
  {
   "cell_type": "code",
   "execution_count": null,
   "metadata": {},
   "outputs": [],
   "source": [
    "categorical_features = []\n",
    "continuous_features = []\n",
    "for application_feature in application_features:\n",
    "    if (application_train.dtypes[application_feature]=='object') or ( application_train.dtypes[application_feature]=='int64' and len(application_train[application_feature].unique())<20):\n",
    "        categorical_features.append(application_feature)\n",
    "    else:\n",
    "        continuous_features.append(application_feature)"
   ]
  },
  {
   "cell_type": "code",
   "execution_count": null,
   "metadata": {},
   "outputs": [],
   "source": [
    "# Replace Unknowns with 'unk' for categorical features and '0' for continuos features\n",
    "application_train[categorical_features] = application_train[categorical_features].fillna(value='unk')\n",
    "application_train[continuous_features] = application_train[continuous_features].fillna(value=0)"
   ]
  },
  {
   "cell_type": "code",
   "execution_count": null,
   "metadata": {
    "collapsed": true
   },
   "outputs": [],
   "source": [
    "application_test[categorical_features] = application_test[categorical_features].fillna(value='unk')\n",
    "application_test[continuous_features] = application_test[continuous_features].fillna(value=0)"
   ]
  },
  {
   "cell_type": "code",
   "execution_count": null,
   "metadata": {
    "collapsed": true
   },
   "outputs": [],
   "source": [
    "for column in categorical_features:\n",
    "    application_train[column] = application_train[column].astype('category')\n",
    "    application_test[column] = application_test[column].astype('category')"
   ]
  },
  {
   "cell_type": "code",
   "execution_count": null,
   "metadata": {
    "scrolled": true
   },
   "outputs": [],
   "source": [
    "input_columns = categorical_features + continuous_features\n",
    "target_column = 'TARGET'\n",
    "\n",
    "X = application_train[input_columns]\n",
    "y = application_train[target_column]\n",
    "X_test = application_test[input_columns]"
   ]
  },
  {
   "cell_type": "code",
   "execution_count": null,
   "metadata": {},
   "outputs": [],
   "source": [
    "merged_X = pd.concat([X, X_test])"
   ]
  },
  {
   "cell_type": "code",
   "execution_count": null,
   "metadata": {
    "scrolled": true
   },
   "outputs": [],
   "source": [
    "le = LabelEncoder()\n",
    "for feature in categorical_features:\n",
    "    merged_X[feature] = le.fit_transform(merged_X[feature])"
   ]
  },
  {
   "cell_type": "code",
   "execution_count": null,
   "metadata": {
    "collapsed": true
   },
   "outputs": [],
   "source": [
    "X = merged_X[:len(X)]\n",
    "X_test = merged_X[len(X):]"
   ]
  },
  {
   "cell_type": "code",
   "execution_count": null,
   "metadata": {},
   "outputs": [],
   "source": [
    "seed = 1234\n",
    "X_train, X_valid, y_train, y_valid = train_test_split(X, y, random_state=seed)"
   ]
  },
  {
   "cell_type": "code",
   "execution_count": null,
   "metadata": {
    "scrolled": true
   },
   "outputs": [],
   "source": [
    "scale_pos_weight = sum(application_train.TARGET==1)/sum(application_train.TARGET==0)\n",
    "clf = xgb.XGBClassifier(max_depth=3, n_estimators=300, learning_rate=0.05, scale_pos_weight=scale_pos_weight).fit(X_train.as_matrix(), y_train.as_matrix())\n",
    "predictions = clf.predict_proba(X_valid.as_matrix())[:,1]"
   ]
  },
  {
   "cell_type": "code",
   "execution_count": null,
   "metadata": {},
   "outputs": [],
   "source": [
    "print('Area Under Curve:',roc_auc_score(y_valid.as_matrix(), predictions))"
   ]
  },
  {
   "cell_type": "code",
   "execution_count": null,
   "metadata": {},
   "outputs": [],
   "source": [
    "test_predictions = clf.predict_proba(X_test.as_matrix())[:,1]\n",
    "xgb_test_predictions = pd.DataFrame({'SK_ID_CURR':application_test['SK_ID_CURR'], 'TARGET':test_predictions})\n",
    "xgb_test_predictions.to_csv('Data/xgb_submission.csv', index=False, float_format='%.8f')"
   ]
  }
 ],
 "metadata": {
  "kernelspec": {
   "display_name": "kaggle",
   "language": "python",
   "name": "kaggle"
  },
  "language_info": {
   "codemirror_mode": {
    "name": "ipython",
    "version": 3
   },
   "file_extension": ".py",
   "mimetype": "text/x-python",
   "name": "python",
   "nbconvert_exporter": "python",
   "pygments_lexer": "ipython3",
   "version": "3.5.2"
  }
 },
 "nbformat": 4,
 "nbformat_minor": 2
}
